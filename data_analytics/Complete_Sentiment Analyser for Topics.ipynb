{
 "cells": [
  {
   "cell_type": "code",
   "execution_count": 6,
   "metadata": {},
   "outputs": [
    {
     "data": {
      "text/plain": [
       "'\\nProgramme to plot a histogram of weighted sentiment scores (raw score multiplied by post/comment score), with a KDE plot. \\nImage file will be outputted with name including search terms and time of plotting\\n'"
      ]
     },
     "execution_count": 6,
     "metadata": {},
     "output_type": "execute_result"
    }
   ],
   "source": [
    "from vaderSentiment.vaderSentiment import SentimentIntensityAnalyzer\n",
    "import pandas as pd\n",
    "import matplotlib.pyplot as plt\n",
    "analyser = SentimentIntensityAnalyzer()\n",
    "import numpy as np\n",
    "\n",
    "'''\n",
    "Programme to plot a histogram of weighted sentiment scores (raw score multiplied by post/comment score), with a KDE plot. \n",
    "Image file will be outputted with name including search terms and time of plotting\n",
    "Note:\n",
    "If necessary, Change transparent = True for exporting of image\n",
    "'''"
   ]
  },
  {
   "cell_type": "code",
   "execution_count": 3,
   "metadata": {},
   "outputs": [],
   "source": [
    "def sentiment_analyzer_scores(sentence):\n",
    "    score = analyser.polarity_scores(sentence)\n",
    "    #print(\"{:-<40} {}\".format(sentence, str(score)))\n",
    "    return score"
   ]
  },
  {
   "cell_type": "code",
   "execution_count": 4,
   "metadata": {},
   "outputs": [],
   "source": [
    "#Assumption: post and comments have the same aggregate sentiment"
   ]
  },
  {
   "cell_type": "code",
   "execution_count": 166,
   "metadata": {},
   "outputs": [],
   "source": [
    "from vaderSentiment.vaderSentiment import SentimentIntensityAnalyzer\n",
    "import numpy as np\n",
    "import pandas as pd\n",
    "import seaborn as sns\n",
    "import matplotlib.pyplot as plt\n",
    "from scipy import stats\n",
    "import datetime\n",
    "analyser = SentimentIntensityAnalyzer()\n",
    "sns.set(color_codes=True, rc={'figure.figsize':(20,20)})\n",
    "\n",
    "def sentiment_analyzer_compound(sentence):\n",
    "    score = analyser.polarity_scores(sentence)\n",
    "    #print(\"{:-<40} {}\".format(sentence, str(score)))\n",
    "    return score['compound']\n",
    "\n",
    "def search(df, array):\n",
    "    filteredposts = pd.DataFrame()\n",
    "    #Make a regular expression out of array\n",
    "    keywords = '|'.join(array)\n",
    "    print(\"You are searching for these keywords: \" + keywords)\n",
    "    mask1 = (df['post_title'].str.contains(str(keywords), case = False)) \n",
    "    mask2 = (df['post_body'].str.contains(str(keywords), case = False))\n",
    "    filteredposts = df[mask1 | mask2]\n",
    "    print('Filtered data as follows: \\n')\n",
    "    print(filteredposts.info())\n",
    "    #filteredposts.to_csv('../visualizations/filter.csv')\n",
    "    #create an array of text strings for every post, which consists of post body and comment bodies\n",
    "    #create an array of scores for every post, which consists of post scores and comment scores\n",
    "    #alternatively, just get compound scores for each line of text\n",
    "    #start with post firsts, simpler\n",
    "    \n",
    "    postweightedsentiment = pd.Series()\n",
    "\n",
    "    try:\n",
    "        postweightedsentiment = filteredposts['post_body'].apply(sentiment_analyzer_compound)*filteredposts['post_score']\n",
    "    except TypeError:\n",
    "        print('Error with post text')\n",
    "        pass\n",
    "    #I need to evaluate the comment bodies because they are in df as string\n",
    "    comment_array = filteredposts['comment_body'].apply(eval)\n",
    "    score_array = filteredposts['comment_score'].apply(eval)\n",
    "    listofcomments = []\n",
    "    listofscores = []\n",
    "    \n",
    "    for i in comment_array:\n",
    "        #print(str(i) + '\\n')\n",
    "        listofcomments += i\n",
    "    for score in score_array:\n",
    "        listofscores += score\n",
    "    print('Length of comment list is\\n' + str(len(listofcomments)))\n",
    "    \n",
    "    \n",
    "    print('Length of comment score list is\\n' + str(len(listofscores)))\n",
    "    \n",
    "    assert len(listofcomments) == len(listofscores), 'Data lengths not equal!'\n",
    "    listofsentiments = []\n",
    "    for comment in listofcomments:\n",
    "        try:\n",
    "            listofsentiments.append(sentiment_analyzer_compound(comment))\n",
    "        except TypeError:\n",
    "            print('Error with comment text')\n",
    "            continue\n",
    "    print('Length of sentiment list is\\n' + str(len(listofsentiments)))\n",
    "    \n",
    "    commentweightedsentiment = np.array(listofsentiments) * np.array(listofscores)\n",
    "    \n",
    "    overallsentimentarray = np.append(postweightedsentiment.array,commentweightedsentiment)\n",
    "    \n",
    "    \n",
    "    return overallsentimentarray\n",
    "\n",
    "def plotcurve(array,term):\n",
    "    dt = datetime.datetime.today()\n",
    "    tday = dt.strftime(\"%d-%m-%Y %H-%M-%S\")\n",
    "    termstr = ', '.join(term)\n",
    "    sns.set(rc={'figure.figsize':(20,10)\n",
    "                \n",
    "               })\n",
    "    \n",
    "    a = sns.distplot(array,\n",
    "                     bins = np.arange(-10,10)-0.5, \n",
    "                     kde_kws = {'kernel':'gau','shade':True,'bw':5},\n",
    "                     vertical = False\n",
    "                    )\n",
    "    \n",
    "    a.axes.set_title(\"Reddit sentiment scores towards topics:  \" +str(termstr), fontsize=30)\n",
    "    print(type(a.axes.get_ylim()))\n",
    "    ymin, ymax = a.axes.get_ylim()\n",
    "    a.axes.vlines(0, ymin,ymax)\n",
    "    a.set_xlabel(\"Weighted Scores\",fontsize=20)\n",
    "    a.set_ylabel(\"Density\",fontsize=20)\n",
    "    plt.xlim(-20,20)\n",
    "    #sns.kdeplot(array, bw=5, label= \"Sentiments of Reddit to: \" + str(term),shade = True, color = 'blue')\n",
    "    \n",
    "    plt.savefig(f'./visualizations/Sentiment graph for {termstr} on {tday}.png',transparent = False)\n",
    "def drive(df,term):\n",
    "    arr = search(df,term)\n",
    "    plotcurve(arr,term)\n",
    "    return(arr)"
   ]
  }
 ],
 "metadata": {
  "kernelspec": {
   "display_name": "Python 3",
   "language": "python",
   "name": "python3"
  },
  "language_info": {
   "codemirror_mode": {
    "name": "ipython",
    "version": 3
   },
   "file_extension": ".py",
   "mimetype": "text/x-python",
   "name": "python",
   "nbconvert_exporter": "python",
   "pygments_lexer": "ipython3",
   "version": "3.7.1"
  },
  "varInspector": {
   "cols": {
    "lenName": 16,
    "lenType": 16,
    "lenVar": 40
   },
   "kernels_config": {
    "python": {
     "delete_cmd_postfix": "",
     "delete_cmd_prefix": "del ",
     "library": "var_list.py",
     "varRefreshCmd": "print(var_dic_list())"
    },
    "r": {
     "delete_cmd_postfix": ") ",
     "delete_cmd_prefix": "rm(",
     "library": "var_list.r",
     "varRefreshCmd": "cat(var_dic_list()) "
    }
   },
   "types_to_exclude": [
    "module",
    "function",
    "builtin_function_or_method",
    "instance",
    "_Feature"
   ],
   "window_display": false
  }
 },
 "nbformat": 4,
 "nbformat_minor": 4
}
