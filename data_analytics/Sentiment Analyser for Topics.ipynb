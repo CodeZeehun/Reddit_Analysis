{
 "cells": [
  {
   "cell_type": "code",
   "execution_count": 1,
   "metadata": {},
   "outputs": [],
   "source": [
    "from vaderSentiment.vaderSentiment import SentimentIntensityAnalyzer\n",
    "import pandas as pd\n",
    "import matplotlib.pyplot as plt\n",
    "analyser = SentimentIntensityAnalyzer()\n",
    "import numpy as np\n",
    "\n",
    "'''Programme to plot a histogram of weighted sentiment scores \\(raw score multiplied by post/comment score\\), with a KDE plot '''"
   ]
  },
  {
   "cell_type": "code",
   "execution_count": 2,
   "metadata": {},
   "outputs": [],
   "source": [
    "def sentiment_analyzer_scores(sentence):\n",
    "    score = analyser.polarity_scores(sentence)\n",
    "    #print(\"{:-<40} {}\".format(sentence, str(score)))\n",
    "    return score"
   ]
  },
  {
   "cell_type": "code",
   "execution_count": 3,
   "metadata": {},
   "outputs": [],
   "source": [
    "#Assumption: post and comments have the same aggregate sentiment"
   ]
  },
  {
   "cell_type": "code",
   "execution_count": 11,
   "metadata": {},
   "outputs": [],
   "source": [
    "from vaderSentiment.vaderSentiment import SentimentIntensityAnalyzer\n",
    "import numpy as np\n",
    "import pandas as pd\n",
    "import seaborn as sns\n",
    "import matplotlib.pyplot as plt\n",
    "from scipy import stats\n",
    "analyser = SentimentIntensityAnalyzer()\n",
    "sns.set(color_codes=True, rc={'figure.figsize':(20,20)})\n",
    "\n",
    "def sentiment_analyzer_compound(sentence):\n",
    "    score = analyser.polarity_scores(sentence)\n",
    "    #print(\"{:-<40} {}\".format(sentence, str(score)))\n",
    "    return score['compound']\n",
    "\n",
    "def search(df, array):\n",
    "    filteredposts = pd.DataFrame()\n",
    "    #Make a regular expression out of array\n",
    "    keywords = '|'.join(array)\n",
    "    print(keywords)\n",
    "    mask1 = (df['post_title'].str.contains(str(keywords), case = False)) \n",
    "    mask2 = (df['post_body'].str.contains(str(keywords), case = False))\n",
    "    filteredposts = df[mask1 | mask2]\n",
    "    print(filteredposts.info())\n",
    "    filteredposts.to_csv('filter.csv')\n",
    "    #create an array of text strings for every post, which consists of post body and comment bodies\n",
    "    #create an array of scores for every post, which consists of post scores and comment scores\n",
    "    #alternatively, just get compound scores for each line of text\n",
    "    #start with post firsts, simpler\n",
    "    \n",
    "    postweightedsentiment = pd.Series()\n",
    "    try:\n",
    "        postweightedsentiment = filteredposts['post_body'].apply(sentiment_analyzer_compound)*filteredposts['post_score']\n",
    "    except TypeError:\n",
    "        print('Error with post text')\n",
    "        pass\n",
    "    #I need to evaluate the comment bodies because they are in df as string\n",
    "    comment_array = filteredposts['comment_body'].apply(eval)\n",
    "    score_array = filteredposts['comment_score'].apply(eval)\n",
    "    listofcomments = []\n",
    "    listofscores = []\n",
    "    \n",
    "    for i in comment_array:\n",
    "        #print(str(i) + '\\n')\n",
    "        listofcomments += i\n",
    "    for score in score_array:\n",
    "        listofscores += score\n",
    "    print('Length of comment list is\\n' + str(len(listofcomments)))\n",
    "    \n",
    "    \n",
    "    print('Length of comment score list is\\n' + str(len(listofscores)))\n",
    "    \n",
    "    assert len(listofcomments) == len(listofscores), 'Data lengths not equal!'\n",
    "    listofsentiments = []\n",
    "    for comment in listofcomments:\n",
    "        try:\n",
    "            listofsentiments.append(sentiment_analyzer_compound(comment))\n",
    "        except TypeError:\n",
    "            print('Error with comment text')\n",
    "            continue\n",
    "    print('Length of sentiment list is\\n' + str(len(listofsentiments)))\n",
    "    \n",
    "    commentweightedsentiment = np.array(listofsentiments) * np.array(listofscores)\n",
    "    \n",
    "    overallsentimentarray = np.append(postweightedsentiment.array,commentweightedsentiment)\n",
    "    \n",
    "    \n",
    "    return overallsentimentarray\n",
    "\n",
    "def plotcurve(array,term):\n",
    "    \n",
    "    sns.distplot(array)\n",
    "    sns.kdeplot(array, bw=5, label= \"Sentiments of Reddit to: \" + str(term),shade = True, color = 'blue')\n",
    "\n",
    "def drive(df,term):\n",
    "    array = search(df,term)\n",
    "    plotcurve(array,term)"
   ]
  },
  {
   "cell_type": "code",
   "execution_count": null,
   "metadata": {},
   "outputs": [],
   "source": []
  }
 ],
 "metadata": {
  "kernelspec": {
   "display_name": "Python 3",
   "language": "python",
   "name": "python3"
  },
  "language_info": {
   "codemirror_mode": {
    "name": "ipython",
    "version": 3
   },
   "file_extension": ".py",
   "mimetype": "text/x-python",
   "name": "python",
   "nbconvert_exporter": "python",
   "pygments_lexer": "ipython3",
   "version": "3.7.1"
  },
  "varInspector": {
   "cols": {
    "lenName": 16,
    "lenType": 16,
    "lenVar": 40
   },
   "kernels_config": {
    "python": {
     "delete_cmd_postfix": "",
     "delete_cmd_prefix": "del ",
     "library": "var_list.py",
     "varRefreshCmd": "print(var_dic_list())"
    },
    "r": {
     "delete_cmd_postfix": ") ",
     "delete_cmd_prefix": "rm(",
     "library": "var_list.r",
     "varRefreshCmd": "cat(var_dic_list()) "
    }
   },
   "types_to_exclude": [
    "module",
    "function",
    "builtin_function_or_method",
    "instance",
    "_Feature"
   ],
   "window_display": false
  }
 },
 "nbformat": 4,
 "nbformat_minor": 4
}
